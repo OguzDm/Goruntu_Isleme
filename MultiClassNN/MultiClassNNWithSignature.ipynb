{
 "cells": [
  {
   "cell_type": "code",
   "execution_count": 76,
   "metadata": {},
   "outputs": [],
   "source": [
    "import os\n",
    "import numpy as np\n",
    "import matplotlib.pyplot as plt\n",
    "from skimage.transform import resize\n",
    "from sklearn.metrics import classification_report, confusion_matrix\n",
    "np.set_printoptions(threshold=np.inf)"
   ]
  },
  {
   "cell_type": "code",
   "execution_count": 77,
   "metadata": {},
   "outputs": [],
   "source": [
    "path1 = r\"C:\\Users\\Oguz\\TrainingDataset\"\n",
    "path2 = r\"C:\\Users\\Oguz\\TestDataset\"\n",
    "trainingDataset = os.listdir(path1)\n",
    "testDataset = os.listdir(path2)\n",
    "size = len(trainingDataset)\n",
    "Data = []\n",
    "Data_Test = []\n",
    "X = []\n",
    "X_Test = []\n"
   ]
  },
  {
   "cell_type": "code",
   "execution_count": 78,
   "metadata": {},
   "outputs": [],
   "source": [
    "def get_0_1_from_triple(temp_1):\n",
    "    mean = int(temp_1[0]/3 + temp_1[1]/3 + temp_1[2]/3)\n",
    "    if mean == 0:\n",
    "        return 0\n",
    "    else:\n",
    "        return 1\n",
    "\n",
    "def convert_rgb_to_bw1(catImage):\n",
    "    m,n,k = catImage.shape\n",
    "    newImage = np.zeros((m,n),dtype ='uint8')\n",
    "\n",
    "    for i in range(m):\n",
    "        for j in range(n):\n",
    "            s = get_0_1_from_triple(catImage[i,j,:])\n",
    "            newImage[i,j] = s\n",
    "\n",
    "    return newImage\n"
   ]
  },
  {
   "cell_type": "code",
   "execution_count": 79,
   "metadata": {},
   "outputs": [
    {
     "data": {
      "text/plain": [
       "19"
      ]
     },
     "execution_count": 79,
     "metadata": {},
     "output_type": "execute_result"
    }
   ],
   "source": [
    "len(trainingDataset)"
   ]
  },
  {
   "cell_type": "code",
   "execution_count": 80,
   "metadata": {},
   "outputs": [
    {
     "data": {
      "text/plain": [
       "19"
      ]
     },
     "execution_count": 80,
     "metadata": {},
     "output_type": "execute_result"
    }
   ],
   "source": [
    "len(testDataset)"
   ]
  },
  {
   "cell_type": "code",
   "execution_count": 81,
   "metadata": {},
   "outputs": [
    {
     "data": {
      "text/plain": [
       "['150401006',\n",
       " '150401037',\n",
       " '150401054',\n",
       " '160401002',\n",
       " '160401024',\n",
       " '160401025',\n",
       " '160401027',\n",
       " '160401048',\n",
       " '160401050',\n",
       " '160401051',\n",
       " '170401008',\n",
       " '170401011',\n",
       " '170401012',\n",
       " '170401024',\n",
       " '170401025',\n",
       " '170401038',\n",
       " '170401073',\n",
       " '170401076',\n",
       " '987654321']"
      ]
     },
     "execution_count": 81,
     "metadata": {},
     "output_type": "execute_result"
    }
   ],
   "source": [
    "trainingDataset"
   ]
  },
  {
   "cell_type": "code",
   "execution_count": 82,
   "metadata": {},
   "outputs": [
    {
     "data": {
      "text/plain": [
       "['150401006',\n",
       " '150401037',\n",
       " '150401054',\n",
       " '160401002',\n",
       " '160401024',\n",
       " '160401025',\n",
       " '160401027',\n",
       " '160401048',\n",
       " '160401050',\n",
       " '160401051',\n",
       " '170401008',\n",
       " '170401011',\n",
       " '170401012',\n",
       " '170401024',\n",
       " '170401025',\n",
       " '170401038',\n",
       " '170401073',\n",
       " '170401076',\n",
       " '987654321']"
      ]
     },
     "execution_count": 82,
     "metadata": {},
     "output_type": "execute_result"
    }
   ],
   "source": [
    "testDataset"
   ]
  },
  {
   "cell_type": "code",
   "execution_count": 83,
   "metadata": {},
   "outputs": [],
   "source": [
    "for i in range(size):\n",
    "    Data.append(os.listdir(path1 + \"/\" + trainingDataset[i]))"
   ]
  },
  {
   "cell_type": "code",
   "execution_count": 84,
   "metadata": {},
   "outputs": [
    {
     "name": "stdout",
     "output_type": "stream",
     "text": [
      "appended\n",
      "appended\n",
      "appended\n",
      "appended\n",
      "appended\n",
      "appended\n",
      "appended\n",
      "appended\n",
      "appended\n",
      "appended\n",
      "appended\n",
      "appended\n",
      "appended\n",
      "appended\n",
      "appended\n",
      "appended\n",
      "appended\n",
      "appended\n",
      "appended\n"
     ]
    }
   ],
   "source": [
    "for j in range(len(Data)):\n",
    "    for k in range(len(Data[j])):\n",
    "        signImage = plt.imread(path1 + \"/\" + trainingDataset[j] + \"/\" + Data[j][k])\n",
    "        bwSignImage = convert_rgb_to_bw1(signImage)\n",
    "        #resizedBwImage = resize(bwSignImage, (200,200))\n",
    "        reshapedBwImg = bwSignImage.reshape(40000)\n",
    "        X.append(reshapedBwImg)\n",
    "    print(\"appended\")"
   ]
  },
  {
   "cell_type": "code",
   "execution_count": 85,
   "metadata": {},
   "outputs": [],
   "source": [
    "X_new = np.array(X)"
   ]
  },
  {
   "cell_type": "code",
   "execution_count": 86,
   "metadata": {},
   "outputs": [
    {
     "data": {
      "text/plain": [
       "(456, 40000)"
      ]
     },
     "execution_count": 86,
     "metadata": {},
     "output_type": "execute_result"
    }
   ],
   "source": [
    "X_new.shape"
   ]
  },
  {
   "cell_type": "code",
   "execution_count": 87,
   "metadata": {},
   "outputs": [
    {
     "data": {
      "text/plain": [
       "<matplotlib.image.AxesImage at 0x20aaf435e80>"
      ]
     },
     "execution_count": 87,
     "metadata": {},
     "output_type": "execute_result"
    },
    {
     "data": {
      "image/png": "[encoded data removed]",
      "text/plain": [
       "<Figure size 432x288 with 1 Axes>"
      ]
     },
     "metadata": {
      "needs_background": "light"
     },
     "output_type": "display_data"
    }
   ],
   "source": [
    "plt.imshow(X_new[100,:].reshape(200,200),cmap = \"gray\")"
   ]
  },
  {
   "cell_type": "code",
   "execution_count": 88,
   "metadata": {},
   "outputs": [
    {
     "data": {
      "text/plain": [
       "<matplotlib.image.AxesImage at 0x20aaf4a3370>"
      ]
     },
     "execution_count": 88,
     "metadata": {},
     "output_type": "execute_result"
    },
    {
     "data": {
      "image/png": "[encoded data removed]",
      "text/plain": [
       "<Figure size 432x288 with 1 Axes>"
      ]
     },
     "metadata": {
      "needs_background": "light"
     },
     "output_type": "display_data"
    }
   ],
   "source": [
    "plt.imshow(X_new[120,:].reshape(200,200),cmap = \"gray\")"
   ]
  },
  {
   "cell_type": "code",
   "execution_count": 89,
   "metadata": {},
   "outputs": [],
   "source": [
    "for i in range(size):\n",
    "    Data_Test.append(os.listdir(path2 + \"/\" + testDataset[i]))"
   ]
  },
  {
   "cell_type": "code",
   "execution_count": 90,
   "metadata": {},
   "outputs": [
    {
     "name": "stdout",
     "output_type": "stream",
     "text": [
      "appended\n",
      "appended\n",
      "appended\n",
      "appended\n",
      "appended\n",
      "appended\n",
      "appended\n",
      "appended\n",
      "appended\n",
      "appended\n",
      "appended\n",
      "appended\n",
      "appended\n",
      "appended\n",
      "appended\n",
      "appended\n",
      "appended\n",
      "appended\n",
      "appended\n"
     ]
    }
   ],
   "source": [
    "for i in range(len(Data_Test)):\n",
    "    for j in range(len(Data_Test[i])):\n",
    "        signImage = plt.imread(path2 + \"/\" + testDataset[i] + \"/\" + Data_Test[i][j])\n",
    "        bwSignImage = convert_rgb_to_bw1(signImage)\n",
    "        #resizedBwImage = resize(bwSignImage, (200,200))\n",
    "        reshapedBwImg = bwSignImage.reshape(40000)\n",
    "        X_Test.append(reshapedBwImg)\n",
    "    print(\"appended\")\n",
    "        "
   ]
  },
  {
   "cell_type": "code",
   "execution_count": 91,
   "metadata": {},
   "outputs": [
    {
     "data": {
      "text/plain": [
       "(133, 40000)"
      ]
     },
     "execution_count": 91,
     "metadata": {},
     "output_type": "execute_result"
    }
   ],
   "source": [
    "X_Test_new = np.array(X_Test)\n",
    "X_Test_new.shape"
   ]
  },
  {
   "cell_type": "code",
   "execution_count": 92,
   "metadata": {},
   "outputs": [
    {
     "data": {
      "text/plain": [
       "<matplotlib.image.AxesImage at 0x20aaf502790>"
      ]
     },
     "execution_count": 92,
     "metadata": {},
     "output_type": "execute_result"
    },
    {
     "data": {
      "image/png": "[encoded data removed]",
      "text/plain": [
       "<Figure size 432x288 with 1 Axes>"
      ]
     },
     "metadata": {
      "needs_background": "light"
     },
     "output_type": "display_data"
    }
   ],
   "source": [
    "plt.imshow(X_Test_new[30,:].reshape(200,200),cmap = \"gray\")"
   ]
  },
  {
   "cell_type": "code",
   "execution_count": 93,
   "metadata": {},
   "outputs": [],
   "source": [
    "Y = []\n",
    "for i in range (size):\n",
    "    for j in range(24):\n",
    "        Y.append(str(i))"
   ]
  },
  {
   "cell_type": "code",
   "execution_count": 94,
   "metadata": {},
   "outputs": [],
   "source": [
    "Y_New = np.array(Y, dtype=object)"
   ]
  },
  {
   "cell_type": "code",
   "execution_count": 95,
   "metadata": {
    "scrolled": true
   },
   "outputs": [
    {
     "data": {
      "text/plain": [
       "array(['0', '0', '0', '0', '0', '0', '0', '0', '0', '0', '0', '0', '0',\n",
       "       '0', '0', '0', '0', '0', '0', '0', '0', '0', '0', '0', '1', '1',\n",
       "       '1', '1', '1', '1', '1', '1', '1', '1', '1', '1', '1', '1', '1',\n",
       "       '1', '1', '1', '1', '1', '1', '1', '1', '1', '2', '2', '2', '2',\n",
       "       '2', '2', '2', '2', '2', '2', '2', '2', '2', '2', '2', '2', '2',\n",
       "       '2', '2', '2', '2', '2', '2', '2', '3', '3', '3', '3', '3', '3',\n",
       "       '3', '3', '3', '3', '3', '3', '3', '3', '3', '3', '3', '3', '3',\n",
       "       '3', '3', '3', '3', '3', '4', '4', '4', '4', '4', '4', '4', '4',\n",
       "       '4', '4', '4', '4', '4', '4', '4', '4', '4', '4', '4', '4', '4',\n",
       "       '4', '4', '4', '5', '5', '5', '5', '5', '5', '5', '5', '5', '5',\n",
       "       '5', '5', '5', '5', '5', '5', '5', '5', '5', '5', '5', '5', '5',\n",
       "       '5', '6', '6', '6', '6', '6', '6', '6', '6', '6', '6', '6', '6',\n",
       "       '6', '6', '6', '6', '6', '6', '6', '6', '6', '6', '6', '6', '7',\n",
       "       '7', '7', '7', '7', '7', '7', '7', '7', '7', '7', '7', '7', '7',\n",
       "       '7', '7', '7', '7', '7', '7', '7', '7', '7', '7', '8', '8', '8',\n",
       "       '8', '8', '8', '8', '8', '8', '8', '8', '8', '8', '8', '8', '8',\n",
       "       '8', '8', '8', '8', '8', '8', '8', '8', '9', '9', '9', '9', '9',\n",
       "       '9', '9', '9', '9', '9', '9', '9', '9', '9', '9', '9', '9', '9',\n",
       "       '9', '9', '9', '9', '9', '9', '10', '10', '10', '10', '10', '10',\n",
       "       '10', '10', '10', '10', '10', '10', '10', '10', '10', '10', '10',\n",
       "       '10', '10', '10', '10', '10', '10', '10', '11', '11', '11', '11',\n",
       "       '11', '11', '11', '11', '11', '11', '11', '11', '11', '11', '11',\n",
       "       '11', '11', '11', '11', '11', '11', '11', '11', '11', '12', '12',\n",
       "       '12', '12', '12', '12', '12', '12', '12', '12', '12', '12', '12',\n",
       "       '12', '12', '12', '12', '12', '12', '12', '12', '12', '12', '12',\n",
       "       '13', '13', '13', '13', '13', '13', '13', '13', '13', '13', '13',\n",
       "       '13', '13', '13', '13', '13', '13', '13', '13', '13', '13', '13',\n",
       "       '13', '13', '14', '14', '14', '14', '14', '14', '14', '14', '14',\n",
       "       '14', '14', '14', '14', '14', '14', '14', '14', '14', '14', '14',\n",
       "       '14', '14', '14', '14', '15', '15', '15', '15', '15', '15', '15',\n",
       "       '15', '15', '15', '15', '15', '15', '15', '15', '15', '15', '15',\n",
       "       '15', '15', '15', '15', '15', '15', '16', '16', '16', '16', '16',\n",
       "       '16', '16', '16', '16', '16', '16', '16', '16', '16', '16', '16',\n",
       "       '16', '16', '16', '16', '16', '16', '16', '16', '17', '17', '17',\n",
       "       '17', '17', '17', '17', '17', '17', '17', '17', '17', '17', '17',\n",
       "       '17', '17', '17', '17', '17', '17', '17', '17', '17', '17', '18',\n",
       "       '18', '18', '18', '18', '18', '18', '18', '18', '18', '18', '18',\n",
       "       '18', '18', '18', '18', '18', '18', '18', '18', '18', '18', '18',\n",
       "       '18'], dtype=object)"
      ]
     },
     "execution_count": 95,
     "metadata": {},
     "output_type": "execute_result"
    }
   ],
   "source": [
    "Y_New"
   ]
  },
  {
   "cell_type": "code",
   "execution_count": 96,
   "metadata": {},
   "outputs": [],
   "source": [
    "Y_Test = []\n",
    "for i in range(size):\n",
    "    for j in range(7):\n",
    "        Y_Test.append(str(i))"
   ]
  },
  {
   "cell_type": "code",
   "execution_count": 97,
   "metadata": {},
   "outputs": [],
   "source": [
    "Y_Test_New = np.array(Y_Test, dtype=object)"
   ]
  },
  {
   "cell_type": "code",
   "execution_count": 98,
   "metadata": {},
   "outputs": [
    {
     "data": {
      "text/plain": [
       "array(['0', '0', '0', '0', '0', '0', '0', '1', '1', '1', '1', '1', '1',\n",
       "       '1', '2', '2', '2', '2', '2', '2', '2', '3', '3', '3', '3', '3',\n",
       "       '3', '3', '4', '4', '4', '4', '4', '4', '4', '5', '5', '5', '5',\n",
       "       '5', '5', '5', '6', '6', '6', '6', '6', '6', '6', '7', '7', '7',\n",
       "       '7', '7', '7', '7', '8', '8', '8', '8', '8', '8', '8', '9', '9',\n",
       "       '9', '9', '9', '9', '9', '10', '10', '10', '10', '10', '10', '10',\n",
       "       '11', '11', '11', '11', '11', '11', '11', '12', '12', '12', '12',\n",
       "       '12', '12', '12', '13', '13', '13', '13', '13', '13', '13', '14',\n",
       "       '14', '14', '14', '14', '14', '14', '15', '15', '15', '15', '15',\n",
       "       '15', '15', '16', '16', '16', '16', '16', '16', '16', '17', '17',\n",
       "       '17', '17', '17', '17', '17', '18', '18', '18', '18', '18', '18',\n",
       "       '18'], dtype=object)"
      ]
     },
     "execution_count": 98,
     "metadata": {},
     "output_type": "execute_result"
    }
   ],
   "source": [
    "Y_Test_New"
   ]
  },
  {
   "cell_type": "code",
   "execution_count": 99,
   "metadata": {},
   "outputs": [
    {
     "data": {
      "text/plain": [
       "(456, 40000)"
      ]
     },
     "execution_count": 99,
     "metadata": {},
     "output_type": "execute_result"
    }
   ],
   "source": [
    "X_new.shape"
   ]
  },
  {
   "cell_type": "code",
   "execution_count": 100,
   "metadata": {},
   "outputs": [
    {
     "data": {
      "text/plain": [
       "(133, 40000)"
      ]
     },
     "execution_count": 100,
     "metadata": {},
     "output_type": "execute_result"
    }
   ],
   "source": [
    "X_Test_new.shape"
   ]
  },
  {
   "cell_type": "code",
   "execution_count": 101,
   "metadata": {},
   "outputs": [],
   "source": [
    "X_new = X_new / 255\n",
    "\n",
    "X_Test_new = X_Test_new / 255\n",
    "\n",
    "digits = 19\n",
    "\n",
    "examples = Y_New.shape[0]\n",
    "\n",
    "Y_New = Y_New.reshape(1, examples)\n",
    "\n",
    "Y_new2 = np.eye(digits)[Y_New.astype('int32')]\n",
    "Y_new2 = Y_new2.T.reshape(digits, examples)\n"
   ]
  },
  {
   "cell_type": "code",
   "execution_count": 102,
   "metadata": {},
   "outputs": [],
   "source": [
    "digits = 19\n",
    "\n",
    "examples = Y_Test_New.shape[0]\n",
    "\n",
    "Y_Test_New = Y_Test_New.reshape(1, examples)\n",
    "\n",
    "Yt_new = np.eye(digits)[Y_Test_New.astype('int32')]\n",
    "Yt_new = Yt_new.T.reshape(digits, examples)"
   ]
  },
  {
   "cell_type": "code",
   "execution_count": 103,
   "metadata": {},
   "outputs": [
    {
     "data": {
      "text/plain": [
       "(1, 456)"
      ]
     },
     "execution_count": 103,
     "metadata": {},
     "output_type": "execute_result"
    }
   ],
   "source": [
    "Y_New.shape"
   ]
  },
  {
   "cell_type": "code",
   "execution_count": 104,
   "metadata": {},
   "outputs": [
    {
     "data": {
      "text/plain": [
       "(19, 133)"
      ]
     },
     "execution_count": 104,
     "metadata": {},
     "output_type": "execute_result"
    }
   ],
   "source": [
    "Yt_new.shape"
   ]
  },
  {
   "cell_type": "code",
   "execution_count": 105,
   "metadata": {},
   "outputs": [],
   "source": [
    "m = 456\n",
    "\n",
    "m_test = X_new.shape[0] - m\n",
    "\n",
    "X_train = X_new[:m].T\n",
    "Y_train = Y_new2[:,:m]\n",
    "X_Test_new = X_Test_new.T\n",
    "Y_test = Yt_new\n",
    "\n",
    "shuffle_index = np.random.permutation(m)\n",
    "X_train, Y_train = X_train[:, shuffle_index], Y_train[:, shuffle_index]\n",
    "\n"
   ]
  },
  {
   "cell_type": "code",
   "execution_count": 106,
   "metadata": {},
   "outputs": [
    {
     "data": {
      "text/plain": [
       "<matplotlib.image.AxesImage at 0x20aaf564820>"
      ]
     },
     "execution_count": 106,
     "metadata": {},
     "output_type": "execute_result"
    },
    {
     "data": {
      "image/png": "[encoded data removed]",
      "text/plain": [
       "<Figure size 432x288 with 1 Axes>"
      ]
     },
     "metadata": {
      "needs_background": "light"
     },
     "output_type": "display_data"
    }
   ],
   "source": [
    "plt.imshow(X_train[:,200].reshape(200,200), cmap = 'gray')"
   ]
  },
  {
   "cell_type": "code",
   "execution_count": 107,
   "metadata": {},
   "outputs": [
    {
     "data": {
      "text/plain": [
       "<matplotlib.image.AxesImage at 0x20aac770730>"
      ]
     },
     "execution_count": 107,
     "metadata": {},
     "output_type": "execute_result"
    },
    {
     "data": {
      "image/png": "[encoded data removed]",
      "text/plain": [
       "<Figure size 432x288 with 1 Axes>"
      ]
     },
     "metadata": {
      "needs_background": "light"
     },
     "output_type": "display_data"
    }
   ],
   "source": [
    "plt.imshow(X_train[:,150].reshape(200,200), cmap = 'gray')"
   ]
  },
  {
   "cell_type": "code",
   "execution_count": 108,
   "metadata": {},
   "outputs": [],
   "source": [
    "def sigmoid(z):\n",
    "    s = 1 / (1 + np.exp(-z))\n",
    "    return s"
   ]
  },
  {
   "cell_type": "code",
   "execution_count": 109,
   "metadata": {},
   "outputs": [],
   "source": [
    "def compute_multiclass_loss(Y, Y_hat):\n",
    "\n",
    "    L_sum = np.sum(np.multiply(Y, np.log(Y_hat)))\n",
    "    m = Y.shape[1]\n",
    "    L = -(1/m) * L_sum\n",
    "\n",
    "    return L"
   ]
  },
  {
   "cell_type": "code",
   "execution_count": 110,
   "metadata": {},
   "outputs": [
    {
     "name": "stdout",
     "output_type": "stream",
     "text": [
      "Epoch 0 cost:  9.821908137025112\n",
      "Epoch 100 cost:  2.6907981838094717\n",
      "Epoch 200 cost:  2.3488585462552476\n",
      "Epoch 300 cost:  2.026120377042207\n",
      "Epoch 400 cost:  1.737256341043156\n",
      "Epoch 500 cost:  1.4900271635546778\n",
      "Epoch 600 cost:  1.28248337867018\n",
      "Epoch 700 cost:  1.1093794896327105\n",
      "Epoch 800 cost:  0.9649183919320331\n",
      "Epoch 900 cost:  0.8438612113480813\n",
      "Epoch 1000 cost:  0.7418521461948097\n",
      "Epoch 1100 cost:  0.6553871239213153\n",
      "Epoch 1200 cost:  0.5816763020823756\n",
      "Epoch 1300 cost:  0.5184969128662914\n",
      "Epoch 1400 cost:  0.46406852372624713\n",
      "Epoch 1500 cost:  0.41695609790492194\n",
      "Epoch 1600 cost:  0.3759962046703857\n",
      "Epoch 1700 cost:  0.34024027507352783\n",
      "Epoch 1800 cost:  0.30891036788430487\n",
      "Epoch 1900 cost:  0.2813644961682388\n",
      "Final cost: 0.25729780993442236\n"
     ]
    }
   ],
   "source": [
    "n_x = X_train.shape[0]\n",
    "n_h = 64\n",
    "learning_rate = 1\n",
    "\n",
    "W1 = np.random.randn(n_h, n_x)\n",
    "b1 = np.zeros((n_h, 1))\n",
    "W2 = np.random.randn(digits, n_h)\n",
    "b2 = np.zeros((digits, 1))\n",
    "\n",
    "X = X_train\n",
    "Y = Y_train\n",
    "\n",
    "for i in range(2000):\n",
    "\n",
    "    Z1 = np.matmul(W1,X) + b1\n",
    "    A1 = sigmoid(Z1)\n",
    "    Z2 = np.matmul(W2,A1) + b2\n",
    "    A2 = np.exp(Z2) / np.sum(np.exp(Z2), axis=0)\n",
    "\n",
    "    cost = compute_multiclass_loss(Y, A2)\n",
    "\n",
    "    dZ2 = A2-Y\n",
    "    dW2 = (1./m) * np.matmul(dZ2, A1.T)\n",
    "    db2 = (1./m) * np.sum(dZ2, axis=1, keepdims=True)\n",
    "\n",
    "    dA1 = np.matmul(W2.T, dZ2)\n",
    "    dZ1 = dA1 * sigmoid(Z1) * (1 - sigmoid(Z1))\n",
    "    dW1 = (1./m) * np.matmul(dZ1, X.T)\n",
    "    db1 = (1./m) * np.sum(dZ1, axis=1, keepdims=True)\n",
    "\n",
    "    W2 = W2 - learning_rate * dW2\n",
    "    b2 = b2 - learning_rate * db2\n",
    "    W1 = W1 - learning_rate * dW1\n",
    "    b1 = b1 - learning_rate * db1\n",
    "\n",
    "    if (i % 100 == 0):\n",
    "        print(\"Epoch\", i, \"cost: \", cost)\n",
    "\n",
    "print(\"Final cost:\", cost)"
   ]
  },
  {
   "cell_type": "code",
   "execution_count": 111,
   "metadata": {},
   "outputs": [
    {
     "name": "stdout",
     "output_type": "stream",
     "text": [
      "[[7 0 0 0 0 0 0 0 0 0 2 0 0 0 0 0 0 0 0]\n",
      " [0 4 0 0 0 0 0 0 0 0 0 0 0 0 0 0 0 0 0]\n",
      " [0 0 0 0 0 0 0 0 0 0 0 0 0 0 0 0 1 0 0]\n",
      " [0 3 0 6 0 0 0 0 0 0 0 0 0 0 0 0 1 0 0]\n",
      " [0 0 5 1 4 0 0 0 0 0 0 1 0 0 1 0 0 1 0]\n",
      " [0 0 0 0 0 7 0 0 0 0 0 0 0 0 0 0 0 0 0]\n",
      " [0 0 0 0 0 0 6 2 0 0 0 1 0 1 0 0 0 0 0]\n",
      " [0 0 0 0 0 0 0 5 0 0 0 0 0 1 0 0 0 0 0]\n",
      " [0 0 0 0 0 0 0 0 6 0 0 0 2 0 0 0 0 0 0]\n",
      " [0 0 0 0 0 0 0 0 0 7 0 0 0 0 0 0 0 0 0]\n",
      " [0 0 0 0 0 0 0 0 0 0 2 0 2 0 0 0 0 0 0]\n",
      " [0 0 0 0 1 0 0 0 0 0 0 4 0 0 0 0 0 0 0]\n",
      " [0 0 0 0 1 0 0 0 1 0 0 0 3 0 0 0 0 0 0]\n",
      " [0 0 0 0 0 0 1 0 0 0 0 1 0 5 0 0 0 0 0]\n",
      " [0 0 2 0 0 0 0 0 0 0 0 0 0 0 6 0 0 0 0]\n",
      " [0 0 0 0 0 0 0 0 0 0 0 0 0 0 0 6 0 0 0]\n",
      " [0 0 0 0 0 0 0 0 0 0 0 0 0 0 0 0 5 0 0]\n",
      " [0 0 0 0 1 0 0 0 0 0 0 0 0 0 0 0 0 6 0]\n",
      " [0 0 0 0 0 0 0 0 0 0 3 0 0 0 0 1 0 0 7]]\n",
      "              precision    recall  f1-score   support\n",
      "\n",
      "           0       1.00      0.78      0.88         9\n",
      "           1       0.57      1.00      0.73         4\n",
      "           2       0.00      0.00      0.00         1\n",
      "           3       0.86      0.60      0.71        10\n",
      "           4       0.57      0.31      0.40        13\n",
      "           5       1.00      1.00      1.00         7\n",
      "           6       0.86      0.60      0.71        10\n",
      "           7       0.71      0.83      0.77         6\n",
      "           8       0.86      0.75      0.80         8\n",
      "           9       1.00      1.00      1.00         7\n",
      "          10       0.29      0.50      0.36         4\n",
      "          11       0.57      0.80      0.67         5\n",
      "          12       0.43      0.60      0.50         5\n",
      "          13       0.71      0.71      0.71         7\n",
      "          14       0.86      0.75      0.80         8\n",
      "          15       0.86      1.00      0.92         6\n",
      "          16       0.71      1.00      0.83         5\n",
      "          17       0.86      0.86      0.86         7\n",
      "          18       1.00      0.64      0.78        11\n",
      "\n",
      "    accuracy                           0.72       133\n",
      "   macro avg       0.72      0.72      0.71       133\n",
      "weighted avg       0.79      0.72      0.74       133\n",
      "\n"
     ]
    }
   ],
   "source": [
    "Z1 = np.matmul(W1, X_Test_new) + b1\n",
    "A1 = sigmoid(Z1)\n",
    "Z2 = np.matmul(W2, A1) + b2\n",
    "A2 = np.exp(Z2) / np.sum(np.exp(Z2), axis=0)\n",
    "\n",
    "predictions = np.argmax(A2, axis=0)\n",
    "labels = np.argmax(Y_test, axis=0)\n",
    "\n",
    "print(confusion_matrix(predictions, labels))\n",
    "print(classification_report(predictions, labels))"
   ]
  },
  {
   "cell_type": "markdown",
   "metadata": {},
   "source": [
    "# Yapmış olduğum çeşitli denemeler sonucunda bütün imza verilerini kullanamadım. Resize yaparken 200x200 üzerindeki verilerde bozulma tespit ettim. Resize kodlarını commente alarak,200x200 üzerindeki verileri datasetten çıkararak ve cropped olmayan verileri kullanmayak yaklaşık %72-79 arası bir başarı yakaladım. İmza verisini tanımlarken 31 tane dataseti yaklaşık %80 train %20 test verisi olacak şekilde 24 ve 7 olarak ikiye böldüm ve daha başarılı sonuç aldığımı gördüm.(Kod çıktılarında train ve test verileri görülebilir.\n",
    "\n",
    "# Kendi verim yani 8 numaralı indexli veri %86 precision %75 recall %80 f1-scorea sahiptir. Modelin imzamı başarıyla tanıdığını söyleyebilirim."
   ]
  }
 ],
 "metadata": {
  "kernelspec": {
   "display_name": "Python 3",
   "language": "python",
   "name": "python3"
  },
  "language_info": {
   "codemirror_mode": {
    "name": "ipython",
    "version": 3
   },
   "file_extension": ".py",
   "mimetype": "text/x-python",
   "name": "python",
   "nbconvert_exporter": "python",
   "pygments_lexer": "ipython3",
   "version": "3.8.3"
  }
 },
 "nbformat": 4,
 "nbformat_minor": 4
}
