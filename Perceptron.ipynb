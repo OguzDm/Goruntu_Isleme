{
 "cells": [
  {
   "cell_type": "code",
   "execution_count": 35,
   "metadata": {},
   "outputs": [],
   "source": [
    "import numpy as np\n",
    " \n",
    "class Perceptron(object):\n",
    "    \"\"\"Implements a perceptron network\"\"\"\n",
    "    def __init__(self, input_size, lr=1, epochs=10):\n",
    "        self.W = np.zeros(input_size+1)\n",
    "        # add one for bias\n",
    "        self.epochs = epochs\n",
    "        self.lr = lr\n",
    "    def activation_fn(self, x):\n",
    "        return 1 if x >= 0 else 0\n",
    "    def predict(self, x):\n",
    "        x = np.insert(x, 0, 1)\n",
    "        z = self.W.T.dot(x)\n",
    "        a = self.activation_fn(z)\n",
    "        return a\n",
    "    def fit(self, X, d):\n",
    "        for _ in range(self.epochs):\n",
    "            for i in range(d.shape[0]):\n",
    "                y = self.predict(X[i])\n",
    "                e = d[i] - y\n",
    "                self.W = self.W + self.lr * e * np.insert(X[i], 0, 1)"
   ]
  },
  {
   "cell_type": "code",
   "execution_count": 36,
   "metadata": {},
   "outputs": [],
   "source": [
    "mp = Perceptron(5)"
   ]
  },
  {
   "cell_type": "code",
   "execution_count": 37,
   "metadata": {},
   "outputs": [
    {
     "data": {
      "text/plain": [
       "array([0., 0., 0., 0., 0., 0.])"
      ]
     },
     "execution_count": 37,
     "metadata": {},
     "output_type": "execute_result"
    }
   ],
   "source": [
    "mp.W"
   ]
  },
  {
   "cell_type": "code",
   "execution_count": 38,
   "metadata": {},
   "outputs": [
    {
     "data": {
      "text/plain": [
       "1"
      ]
     },
     "execution_count": 38,
     "metadata": {},
     "output_type": "execute_result"
    }
   ],
   "source": [
    "mp.activation_fn(10)"
   ]
  },
  {
   "cell_type": "code",
   "execution_count": 39,
   "metadata": {},
   "outputs": [
    {
     "data": {
      "text/plain": [
       "0"
      ]
     },
     "execution_count": 39,
     "metadata": {},
     "output_type": "execute_result"
    }
   ],
   "source": [
    "mp.activation_fn(-10)"
   ]
  },
  {
   "cell_type": "code",
   "execution_count": 40,
   "metadata": {},
   "outputs": [],
   "source": [
    "x = np.asarray([-10,-2,-3,4,-50])"
   ]
  },
  {
   "cell_type": "code",
   "execution_count": 41,
   "metadata": {},
   "outputs": [
    {
     "data": {
      "text/plain": [
       "array([-10,  -2,  -3,   4, -50])"
      ]
     },
     "execution_count": 41,
     "metadata": {},
     "output_type": "execute_result"
    }
   ],
   "source": [
    "x"
   ]
  },
  {
   "cell_type": "code",
   "execution_count": 42,
   "metadata": {},
   "outputs": [
    {
     "data": {
      "text/plain": [
       "1"
      ]
     },
     "execution_count": 42,
     "metadata": {},
     "output_type": "execute_result"
    }
   ],
   "source": [
    "mp.predict(x)"
   ]
  },
  {
   "cell_type": "code",
   "execution_count": 44,
   "metadata": {},
   "outputs": [
    {
     "name": "stdout",
     "output_type": "stream",
     "text": [
      "[-3.  2.  1.]\n"
     ]
    }
   ],
   "source": [
    "X = np.array([\n",
    "        [0, 0],\n",
    "        [0, 1],\n",
    "        [1, 0],\n",
    "        [1, 1]\n",
    "    ])\n",
    "d = np.array([0, 0, 0, 1])\n",
    " \n",
    "perceptron = Perceptron(input_size=2)\n",
    "perceptron.fit(X, d)\n",
    "print(perceptron.W)"
   ]
  },
  {
   "cell_type": "markdown",
   "metadata": {},
   "source": [
    "# 1-)Perceptron class tanımınında var olan fonksiyonları kısaca tanıtınız.\n",
    "\n",
    "# def __init__(self, input_size, lr=1, epochs=10) : Input Boyutunu alarak Veriler için W yani ağırlığı oluşturan bir constructordir.\n",
    "\n",
    "# def activation_fn(self, x) : Aktivasyon Fonksiyonu kendisine verilen değer 1'den büyükse 1 döndürür 1'den küçük ise 0 döndürür.\n",
    "\n",
    "# def predict(self, x): \n",
    "\n",
    "# Transpoze dot çarpımı ile tekil değer üretir ve aktivasyon fonksiyonuna gönderir.\n",
    "\n",
    "\n",
    "\n",
    "# def fit(self, X, d): \n",
    "\n",
    "# Verilerin eğitildiği ve oluşturulduğu fonksiyondur. Predict yardımı ile error değerine bakılır.\n",
    "\n",
    "\n",
    "\n",
    "# 2-)XOR için verileri değiştirip çalışmasınızı gözlemleyiniz.\n",
    "\n",
    "# X = np.array([[0, 0],[0, 1],[1, 0],[1, 1]])\n",
    "\n",
    "# d = np.array([0, 1, 1, 0])\n",
    " \n",
    "\n",
    "# perceptron = Perceptron(input_size=2)\n",
    "# perceptron.fit(X, d)\n",
    "\n",
    "\n",
    "\n",
    "\n",
    "# 3-)Bu class ile dersimize kayıtlı 40 öğrenci için imza tanıması yapılırsa X ve d değerlerini ne olur, predict fonksiyonu nasıl kullanılır açıklayınız.\n",
    "\n",
    "# X -> 40 öğrencinin imzalarının 2 boyutlu bir diziye(0 ve 1) dönüştürülmüş data seti olur.\n",
    "# d-> Her bir öğrencinin imzalarının tutulduğu 40x40 lık 2 boyutlu bir dizi olur.\n",
    "\n",
    "\n",
    "\n",
    "\n",
    "\n",
    "# 4-)Bu modelin hatası nasıl elde edilir, kendi çözümünüzü/ yorumunuzu yazınız.\n",
    "\n",
    "# Bu modelin hatası XOR kapısı ile elde edilir. XOR girdileri tekil olarak ayrılamazdır. Bunun çözümü çoklu perceptron kullanımıdır.\n"
   ]
  }
 ],
 "metadata": {
  "kernelspec": {
   "display_name": "Python 3",
   "language": "python",
   "name": "python3"
  },
  "language_info": {
   "codemirror_mode": {
    "name": "ipython",
    "version": 3
   },
   "file_extension": ".py",
   "mimetype": "text/x-python",
   "name": "python",
   "nbconvert_exporter": "python",
   "pygments_lexer": "ipython3",
   "version": "3.8.3"
  }
 },
 "nbformat": 4,
 "nbformat_minor": 4
}
